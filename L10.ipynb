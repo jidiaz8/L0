{
  "nbformat": 4,
  "nbformat_minor": 0,
  "metadata": {
    "colab": {
      "name": "L10.ipynb",
      "version": "0.3.2",
      "provenance": [],
      "include_colab_link": true
    },
    "kernelspec": {
      "name": "python3",
      "display_name": "Python 3"
    }
  },
  "cells": [
    {
      "cell_type": "markdown",
      "metadata": {
        "id": "view-in-github",
        "colab_type": "text"
      },
      "source": [
        "<a href=\"https://colab.research.google.com/github/jidiaz8/L0/blob/master/L10.ipynb\" target=\"_parent\"><img src=\"https://colab.research.google.com/assets/colab-badge.svg\" alt=\"Open In Colab\"/></a>"
      ]
    },
    {
      "cell_type": "code",
      "metadata": {
        "id": "q3SFIjpQorKt",
        "colab_type": "code",
        "colab": {
          "base_uri": "https://localhost:8080/",
          "height": 1297
        },
        "outputId": "6df7faf5-76ee-4ae8-8db0-b844f6e2c8a7"
      },
      "source": [
        "!apt install libspatialindex-dev\n",
        "!pip install shapely geopandas rtree\n",
        "!pip install descartes\n",
        "\n",
        "import geopandas as gpd\n",
        "import matplotlib.pyplot as plt "
      ],
      "execution_count": 1,
      "outputs": [
        {
          "output_type": "stream",
          "text": [
            "Reading package lists... Done\n",
            "Building dependency tree       \n",
            "Reading state information... Done\n",
            "The following package was automatically installed and is no longer required:\n",
            "  libnvidia-common-410\n",
            "Use 'apt autoremove' to remove it.\n",
            "The following additional packages will be installed:\n",
            "  libspatialindex-c4v5 libspatialindex4v5\n",
            "The following NEW packages will be installed:\n",
            "  libspatialindex-c4v5 libspatialindex-dev libspatialindex4v5\n",
            "0 upgraded, 3 newly installed, 0 to remove and 8 not upgraded.\n",
            "Need to get 555 kB of archives.\n",
            "After this operation, 3,308 kB of additional disk space will be used.\n",
            "Get:1 http://archive.ubuntu.com/ubuntu bionic/universe amd64 libspatialindex4v5 amd64 1.8.5-5 [219 kB]\n",
            "Get:2 http://archive.ubuntu.com/ubuntu bionic/universe amd64 libspatialindex-c4v5 amd64 1.8.5-5 [51.7 kB]\n",
            "Get:3 http://archive.ubuntu.com/ubuntu bionic/universe amd64 libspatialindex-dev amd64 1.8.5-5 [285 kB]\n",
            "Fetched 555 kB in 1s (440 kB/s)\n",
            "Selecting previously unselected package libspatialindex4v5:amd64.\n",
            "(Reading database ... 130912 files and directories currently installed.)\n",
            "Preparing to unpack .../libspatialindex4v5_1.8.5-5_amd64.deb ...\n",
            "Unpacking libspatialindex4v5:amd64 (1.8.5-5) ...\n",
            "Selecting previously unselected package libspatialindex-c4v5:amd64.\n",
            "Preparing to unpack .../libspatialindex-c4v5_1.8.5-5_amd64.deb ...\n",
            "Unpacking libspatialindex-c4v5:amd64 (1.8.5-5) ...\n",
            "Selecting previously unselected package libspatialindex-dev:amd64.\n",
            "Preparing to unpack .../libspatialindex-dev_1.8.5-5_amd64.deb ...\n",
            "Unpacking libspatialindex-dev:amd64 (1.8.5-5) ...\n",
            "Setting up libspatialindex4v5:amd64 (1.8.5-5) ...\n",
            "Setting up libspatialindex-c4v5:amd64 (1.8.5-5) ...\n",
            "Processing triggers for libc-bin (2.27-3ubuntu1) ...\n",
            "Setting up libspatialindex-dev:amd64 (1.8.5-5) ...\n",
            "Requirement already satisfied: shapely in /usr/local/lib/python3.6/dist-packages (1.6.4.post2)\n",
            "Collecting geopandas\n",
            "\u001b[?25l  Downloading https://files.pythonhosted.org/packages/74/42/f4b147fc7920998a42046d0c2e65e61000bc5d104f1f8aec719612cb2fc8/geopandas-0.5.0-py2.py3-none-any.whl (893kB)\n",
            "\u001b[K     |████████████████████████████████| 901kB 4.3MB/s \n",
            "\u001b[?25hCollecting rtree\n",
            "  Downloading https://files.pythonhosted.org/packages/33/0d/0bcb0fdd759570e85697189f675fa462131e5636482f2832288bbe4bb6f7/Rtree-0.8.3-py3-none-any.whl\n",
            "Collecting fiona (from geopandas)\n",
            "\u001b[?25l  Downloading https://files.pythonhosted.org/packages/89/4a/193cd6a75e51062c85f4e1cd6f312b3bbda6e26ba7510f152ef5016f0b16/Fiona-1.8.6-cp36-cp36m-manylinux1_x86_64.whl (17.9MB)\n",
            "\u001b[K     |████████████████████████████████| 17.9MB 36.9MB/s \n",
            "\u001b[?25hRequirement already satisfied: pandas in /usr/local/lib/python3.6/dist-packages (from geopandas) (0.24.2)\n",
            "Collecting pyproj (from geopandas)\n",
            "\u001b[?25l  Downloading https://files.pythonhosted.org/packages/ac/1a/81ef33d97354eb7d1765a921ecaf2ece41fd7927937b7c74124b6a2a0d99/pyproj-2.2.0-cp36-cp36m-manylinux1_x86_64.whl (11.2MB)\n",
            "\u001b[K     |████████████████████████████████| 11.2MB 35.4MB/s \n",
            "\u001b[?25hRequirement already satisfied: setuptools in /usr/local/lib/python3.6/dist-packages (from rtree) (41.0.1)\n",
            "Requirement already satisfied: click<8,>=4.0 in /usr/local/lib/python3.6/dist-packages (from fiona->geopandas) (7.0)\n",
            "Collecting munch (from fiona->geopandas)\n",
            "  Downloading https://files.pythonhosted.org/packages/68/f4/260ec98ea840757a0da09e0ed8135333d59b8dfebe9752a365b04857660a/munch-2.3.2.tar.gz\n",
            "Collecting click-plugins>=1.0 (from fiona->geopandas)\n",
            "  Downloading https://files.pythonhosted.org/packages/e9/da/824b92d9942f4e472702488857914bdd50f73021efea15b4cad9aca8ecef/click_plugins-1.1.1-py2.py3-none-any.whl\n",
            "Collecting cligj>=0.5 (from fiona->geopandas)\n",
            "  Downloading https://files.pythonhosted.org/packages/e4/be/30a58b4b0733850280d01f8bd132591b4668ed5c7046761098d665ac2174/cligj-0.5.0-py3-none-any.whl\n",
            "Requirement already satisfied: attrs>=17 in /usr/local/lib/python3.6/dist-packages (from fiona->geopandas) (19.1.0)\n",
            "Requirement already satisfied: six>=1.7 in /usr/local/lib/python3.6/dist-packages (from fiona->geopandas) (1.12.0)\n",
            "Requirement already satisfied: python-dateutil>=2.5.0 in /usr/local/lib/python3.6/dist-packages (from pandas->geopandas) (2.5.3)\n",
            "Requirement already satisfied: pytz>=2011k in /usr/local/lib/python3.6/dist-packages (from pandas->geopandas) (2018.9)\n",
            "Requirement already satisfied: numpy>=1.12.0 in /usr/local/lib/python3.6/dist-packages (from pandas->geopandas) (1.16.4)\n",
            "Building wheels for collected packages: munch\n",
            "  Building wheel for munch (setup.py) ... \u001b[?25l\u001b[?25hdone\n",
            "  Stored in directory: /root/.cache/pip/wheels/db/bf/bc/06a3e1bfe0ab27d2e720ceb3cff3159398d92644c0cec2c125\n",
            "Successfully built munch\n",
            "Installing collected packages: munch, click-plugins, cligj, fiona, pyproj, geopandas, rtree\n",
            "Successfully installed click-plugins-1.1.1 cligj-0.5.0 fiona-1.8.6 geopandas-0.5.0 munch-2.3.2 pyproj-2.2.0 rtree-0.8.3\n",
            "Collecting descartes\n",
            "  Downloading https://files.pythonhosted.org/packages/e5/b6/1ed2eb03989ae574584664985367ba70cd9cf8b32ee8cad0e8aaeac819f3/descartes-1.1.0-py3-none-any.whl\n",
            "Requirement already satisfied: matplotlib in /usr/local/lib/python3.6/dist-packages (from descartes) (3.0.3)\n",
            "Requirement already satisfied: cycler>=0.10 in /usr/local/lib/python3.6/dist-packages (from matplotlib->descartes) (0.10.0)\n",
            "Requirement already satisfied: kiwisolver>=1.0.1 in /usr/local/lib/python3.6/dist-packages (from matplotlib->descartes) (1.1.0)\n",
            "Requirement already satisfied: numpy>=1.10.0 in /usr/local/lib/python3.6/dist-packages (from matplotlib->descartes) (1.16.4)\n",
            "Requirement already satisfied: python-dateutil>=2.1 in /usr/local/lib/python3.6/dist-packages (from matplotlib->descartes) (2.5.3)\n",
            "Requirement already satisfied: pyparsing!=2.0.4,!=2.1.2,!=2.1.6,>=2.0.1 in /usr/local/lib/python3.6/dist-packages (from matplotlib->descartes) (2.4.0)\n",
            "Requirement already satisfied: six in /usr/local/lib/python3.6/dist-packages (from cycler>=0.10->matplotlib->descartes) (1.12.0)\n",
            "Requirement already satisfied: setuptools in /usr/local/lib/python3.6/dist-packages (from kiwisolver>=1.0.1->matplotlib->descartes) (41.0.1)\n",
            "Installing collected packages: descartes\n",
            "Successfully installed descartes-1.1.0\n"
          ],
          "name": "stdout"
        }
      ]
    },
    {
      "cell_type": "code",
      "metadata": {
        "id": "mh-Z9SHLrO38",
        "colab_type": "code",
        "colab": {
          "base_uri": "https://localhost:8080/",
          "height": 635
        },
        "outputId": "4f98bda4-f64a-45d8-ff4c-bbbea8ee7ee3"
      },
      "source": [
        "zonas = (gpd.read_file('zonas.shp', crs={'init': 'epsg:4326'}))\n",
        "def mision_1():\n",
        "  a=zonas.head(5)\n",
        "  zonas.plot()\n",
        "  return a\n",
        "mision_1()"
      ],
      "execution_count": 30,
      "outputs": [
        {
          "output_type": "execute_result",
          "data": {
            "text/html": [
              "<div>\n",
              "<style scoped>\n",
              "    .dataframe tbody tr th:only-of-type {\n",
              "        vertical-align: middle;\n",
              "    }\n",
              "\n",
              "    .dataframe tbody tr th {\n",
              "        vertical-align: top;\n",
              "    }\n",
              "\n",
              "    .dataframe thead th {\n",
              "        text-align: right;\n",
              "    }\n",
              "</style>\n",
              "<table border=\"1\" class=\"dataframe\">\n",
              "  <thead>\n",
              "    <tr style=\"text-align: right;\">\n",
              "      <th></th>\n",
              "      <th>ID</th>\n",
              "      <th>AREA</th>\n",
              "      <th>AREA1</th>\n",
              "      <th>PERIMETER</th>\n",
              "      <th>COMUNAS_</th>\n",
              "      <th>COMUNAS_ID</th>\n",
              "      <th>COMUNA</th>\n",
              "      <th>ZONA</th>\n",
              "      <th>ZONA_TS</th>\n",
              "      <th>geometry</th>\n",
              "    </tr>\n",
              "  </thead>\n",
              "  <tbody>\n",
              "    <tr>\n",
              "      <th>0</th>\n",
              "      <td>1</td>\n",
              "      <td>134.027023</td>\n",
              "      <td>1.339598e+08</td>\n",
              "      <td>55150.497397</td>\n",
              "      <td>2</td>\n",
              "      <td>5</td>\n",
              "      <td>LAMPA</td>\n",
              "      <td>NaN</td>\n",
              "      <td>None</td>\n",
              "      <td>POLYGON ((-70.930282000004 -33.37751800000068,...</td>\n",
              "    </tr>\n",
              "    <tr>\n",
              "      <th>1</th>\n",
              "      <td>2</td>\n",
              "      <td>41.810143</td>\n",
              "      <td>4.178323e+07</td>\n",
              "      <td>34335.723421</td>\n",
              "      <td>3</td>\n",
              "      <td>17</td>\n",
              "      <td>COLINA</td>\n",
              "      <td>NaN</td>\n",
              "      <td>None</td>\n",
              "      <td>POLYGON ((-70.73141500000224 -33.2967820000007...</td>\n",
              "    </tr>\n",
              "    <tr>\n",
              "      <th>2</th>\n",
              "      <td>3</td>\n",
              "      <td>80.949127</td>\n",
              "      <td>8.089035e+07</td>\n",
              "      <td>41063.545497</td>\n",
              "      <td>4</td>\n",
              "      <td>4</td>\n",
              "      <td>LO BARNECHEA</td>\n",
              "      <td>1.0</td>\n",
              "      <td>Zona C</td>\n",
              "      <td>POLYGON ((-70.59423200000144 -33.2986180000007...</td>\n",
              "    </tr>\n",
              "    <tr>\n",
              "      <th>3</th>\n",
              "      <td>8</td>\n",
              "      <td>66.062439</td>\n",
              "      <td>6.601481e+07</td>\n",
              "      <td>43589.076799</td>\n",
              "      <td>9</td>\n",
              "      <td>11</td>\n",
              "      <td>LAS CONDES</td>\n",
              "      <td>1.0</td>\n",
              "      <td>Zona C</td>\n",
              "      <td>POLYGON ((-70.45721300000089 -33.3705970000007...</td>\n",
              "    </tr>\n",
              "    <tr>\n",
              "      <th>4</th>\n",
              "      <td>21</td>\n",
              "      <td>38.376225</td>\n",
              "      <td>3.834988e+07</td>\n",
              "      <td>26238.244556</td>\n",
              "      <td>22</td>\n",
              "      <td>24</td>\n",
              "      <td>PENALOLEN</td>\n",
              "      <td>2.0</td>\n",
              "      <td>Zona D</td>\n",
              "      <td>POLYGON ((-70.50174500000107 -33.4599700000008...</td>\n",
              "    </tr>\n",
              "  </tbody>\n",
              "</table>\n",
              "</div>"
            ],
            "text/plain": [
              "   ID        AREA  ...  ZONA_TS                                           geometry\n",
              "0   1  134.027023  ...     None  POLYGON ((-70.930282000004 -33.37751800000068,...\n",
              "1   2   41.810143  ...     None  POLYGON ((-70.73141500000224 -33.2967820000007...\n",
              "2   3   80.949127  ...   Zona C  POLYGON ((-70.59423200000144 -33.2986180000007...\n",
              "3   8   66.062439  ...   Zona C  POLYGON ((-70.45721300000089 -33.3705970000007...\n",
              "4  21   38.376225  ...   Zona D  POLYGON ((-70.50174500000107 -33.4599700000008...\n",
              "\n",
              "[5 rows x 10 columns]"
            ]
          },
          "metadata": {
            "tags": []
          },
          "execution_count": 30
        },
        {
          "output_type": "display_data",
          "data": {
            "image/png": "[encoded data removed]",
            "text/plain": [
              "<Figure size 432x288 with 1 Axes>"
            ]
          },
          "metadata": {
            "tags": []
          }
        }
      ]
    },
    {
      "cell_type": "code",
      "metadata": {
        "id": "PwnQ_jvhrksu",
        "colab_type": "code",
        "colab": {
          "base_uri": "https://localhost:8080/",
          "height": 904
        },
        "outputId": "e8db5dd9-50b1-4699-f70b-e10ba7eac282"
      },
      "source": [
        "paradas = (gpd.read_file('paradas.shp', crs={'init': 'epsg:4326'}))\n",
        "def mision_2():\n",
        "  b=paradas.head(5)\n",
        "  zo=zonas.plot()\n",
        "  stgo_municipalities = gpd.sjoin(paradas, zonas, op='intersects')\n",
        "  stgo_municipalities.plot()\n",
        "  return b\n",
        "  \n",
        "mision_2()"
      ],
      "execution_count": 50,
      "outputs": [
        {
          "output_type": "execute_result",
          "data": {
            "text/html": [
              "<div>\n",
              "<style scoped>\n",
              "    .dataframe tbody tr th:only-of-type {\n",
              "        vertical-align: middle;\n",
              "    }\n",
              "\n",
              "    .dataframe tbody tr th {\n",
              "        vertical-align: top;\n",
              "    }\n",
              "\n",
              "    .dataframe thead th {\n",
              "        text-align: right;\n",
              "    }\n",
              "</style>\n",
              "<table border=\"1\" class=\"dataframe\">\n",
              "  <thead>\n",
              "    <tr style=\"text-align: right;\">\n",
              "      <th></th>\n",
              "      <th>ID</th>\n",
              "      <th>CODINFRA</th>\n",
              "      <th>SIMT</th>\n",
              "      <th>COMUNA</th>\n",
              "      <th>EJE</th>\n",
              "      <th>DESDECRUCE</th>\n",
              "      <th>HACIACRUCE</th>\n",
              "      <th>NOMBRE_PAR</th>\n",
              "      <th>X</th>\n",
              "      <th>Y</th>\n",
              "      <th>N_ET</th>\n",
              "      <th>N_ZP</th>\n",
              "      <th>ZPHORARIO</th>\n",
              "      <th>FREPMA</th>\n",
              "      <th>PLAZASPMA</th>\n",
              "      <th>FREPTA</th>\n",
              "      <th>PLAZASPTA</th>\n",
              "      <th>NSERVICIOS</th>\n",
              "      <th>SERVICIOS</th>\n",
              "      <th>geometry</th>\n",
              "    </tr>\n",
              "  </thead>\n",
              "  <tbody>\n",
              "    <tr>\n",
              "      <th>0</th>\n",
              "      <td>915</td>\n",
              "      <td>L-13-63-5-NS</td>\n",
              "      <td>PI317</td>\n",
              "      <td>MAIP�</td>\n",
              "      <td>MAIP�</td>\n",
              "      <td>CALETERA CAMINO A MELIPILLA</td>\n",
              "      <td>LAGO BRACCIANO</td>\n",
              "      <td>Central Poniente / esq.  Lago Bracciano</td>\n",
              "      <td>333352.21</td>\n",
              "      <td>6285793.36</td>\n",
              "      <td>0</td>\n",
              "      <td>NaN</td>\n",
              "      <td>None</td>\n",
              "      <td>27.5</td>\n",
              "      <td>2482.0</td>\n",
              "      <td>31.67</td>\n",
              "      <td>2921.67</td>\n",
              "      <td>6</td>\n",
              "      <td>111I;113R;113eR;113cR;350R;I11R</td>\n",
              "      <td>POINT (-70.795134 -33.554516)</td>\n",
              "    </tr>\n",
              "    <tr>\n",
              "      <th>1</th>\n",
              "      <td>916</td>\n",
              "      <td>L-13-63-10-PO</td>\n",
              "      <td>PI307</td>\n",
              "      <td>MAIP�</td>\n",
              "      <td>MAIP�</td>\n",
              "      <td>LAS ARALIAS</td>\n",
              "      <td>LAGO DE COMO</td>\n",
              "      <td>Central Poniente / esq.  Lago de Como</td>\n",
              "      <td>333556.96</td>\n",
              "      <td>6285602.35</td>\n",
              "      <td>0</td>\n",
              "      <td>NaN</td>\n",
              "      <td>None</td>\n",
              "      <td>27.5</td>\n",
              "      <td>2482.0</td>\n",
              "      <td>31.67</td>\n",
              "      <td>2921.67</td>\n",
              "      <td>6</td>\n",
              "      <td>111I;113R;113eR;113cR;350R;I11R</td>\n",
              "      <td>POINT (-70.792965 -33.55627)</td>\n",
              "    </tr>\n",
              "    <tr>\n",
              "      <th>2</th>\n",
              "      <td>927</td>\n",
              "      <td>L-13-61-10-OP</td>\n",
              "      <td>PI269</td>\n",
              "      <td>MAIP�</td>\n",
              "      <td>MAIP�</td>\n",
              "      <td>LIQUIDAMBAR 4</td>\n",
              "      <td>LAGO DE COMO</td>\n",
              "      <td>Central Oriente / esq.  Lago de Como</td>\n",
              "      <td>333620.37</td>\n",
              "      <td>6285624.74</td>\n",
              "      <td>0</td>\n",
              "      <td>NaN</td>\n",
              "      <td>None</td>\n",
              "      <td>35.0</td>\n",
              "      <td>3264.0</td>\n",
              "      <td>22.67</td>\n",
              "      <td>2008.33</td>\n",
              "      <td>6</td>\n",
              "      <td>111R;113I;113eI;113cI;350I;I11I</td>\n",
              "      <td>POINT (-70.792278 -33.556078)</td>\n",
              "    </tr>\n",
              "    <tr>\n",
              "      <th>3</th>\n",
              "      <td>918</td>\n",
              "      <td>L-13-63-20-PO</td>\n",
              "      <td>PI309</td>\n",
              "      <td>MAIP�</td>\n",
              "      <td>MAIP�</td>\n",
              "      <td>EL CACTUS</td>\n",
              "      <td>LAGO CASTELGANDOLFO</td>\n",
              "      <td>Central Poniente / esq.  Castelgandolfo</td>\n",
              "      <td>334004.86</td>\n",
              "      <td>6285199.22</td>\n",
              "      <td>0</td>\n",
              "      <td>NaN</td>\n",
              "      <td>None</td>\n",
              "      <td>27.5</td>\n",
              "      <td>2482.0</td>\n",
              "      <td>31.67</td>\n",
              "      <td>2921.67</td>\n",
              "      <td>6</td>\n",
              "      <td>111I;113R;113eR;113cR;350R;I11R</td>\n",
              "      <td>POINT (-70.788217 -33.559974)</td>\n",
              "    </tr>\n",
              "    <tr>\n",
              "      <th>4</th>\n",
              "      <td>925</td>\n",
              "      <td>L-13-61-20-OP</td>\n",
              "      <td>PI267</td>\n",
              "      <td>MAIP�</td>\n",
              "      <td>MAIP�</td>\n",
              "      <td>EL HELECHO NORTE</td>\n",
              "      <td>LAGO CASTELGANDOLFO</td>\n",
              "      <td>Central Oriente / esq.  Castelgandolfo</td>\n",
              "      <td>334032.79</td>\n",
              "      <td>6285254.39</td>\n",
              "      <td>0</td>\n",
              "      <td>NaN</td>\n",
              "      <td>None</td>\n",
              "      <td>35.0</td>\n",
              "      <td>3264.0</td>\n",
              "      <td>22.67</td>\n",
              "      <td>2008.33</td>\n",
              "      <td>6</td>\n",
              "      <td>111R;113I;113eI;113cI;350I;I11I</td>\n",
              "      <td>POINT (-70.78790600000001 -33.559481)</td>\n",
              "    </tr>\n",
              "  </tbody>\n",
              "</table>\n",
              "</div>"
            ],
            "text/plain": [
              "    ID  ...                               geometry\n",
              "0  915  ...          POINT (-70.795134 -33.554516)\n",
              "1  916  ...           POINT (-70.792965 -33.55627)\n",
              "2  927  ...          POINT (-70.792278 -33.556078)\n",
              "3  918  ...          POINT (-70.788217 -33.559974)\n",
              "4  925  ...  POINT (-70.78790600000001 -33.559481)\n",
              "\n",
              "[5 rows x 20 columns]"
            ]
          },
          "metadata": {
            "tags": []
          },
          "execution_count": 50
        },
        {
          "output_type": "display_data",
          "data": {
            "image/png": "[encoded data removed]",
            "text/plain": [
              "<Figure size 432x288 with 1 Axes>"
            ]
          },
          "metadata": {
            "tags": []
          }
        },
        {
          "output_type": "display_data",
          "data": {
            "image/png": "[encoded data removed]",
            "text/plain": [
              "<Figure size 432x288 with 1 Axes>"
            ]
          },
          "metadata": {
            "tags": []
          }
        }
      ]
    },
    {
      "cell_type": "code",
      "metadata": {
        "id": "SgzXsPV0u3y9",
        "colab_type": "code",
        "colab": {
          "base_uri": "https://localhost:8080/",
          "height": 269
        },
        "outputId": "a8f9e4ab-aee8-48a3-bf66-bf0ef2282c0a"
      },
      "source": [
        "def mision_3():\n",
        "  ciudad=gpd.sjoin(paradas, zonas, op='within', how='inner')\n",
        "  ciudad.plot()\n",
        "mision_3()"
      ],
      "execution_count": 46,
      "outputs": [
        {
          "output_type": "display_data",
          "data": {
            "image/png": "[encoded data removed]",
            "text/plain": [
              "<Figure size 432x288 with 1 Axes>"
            ]
          },
          "metadata": {
            "tags": []
          }
        }
      ]
    },
    {
      "cell_type": "code",
      "metadata": {
        "id": "jh95en_D5k1L",
        "colab_type": "code",
        "colab": {}
      },
      "source": [
        "def mision_4():\n",
        "  \n",
        "mision_4()"
      ],
      "execution_count": 0,
      "outputs": []
    }
  ]
}